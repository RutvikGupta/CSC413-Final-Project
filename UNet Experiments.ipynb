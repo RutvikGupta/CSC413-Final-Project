{
 "cells": [
  {
   "cell_type": "code",
   "execution_count": null,
   "metadata": {
    "colab": {
     "base_uri": "https://localhost:8080/"
    },
    "id": "6huceXGyDq34",
    "outputId": "488a68e8-fe6b-4ad2-8bb8-ca4fc52e866c"
   },
   "outputs": [],
   "source": [
    "!pip install scikit-image\n",
    "!pip install tensorflow\n",
    "import os\n",
    "import numpy as np\n",
    "from PIL import Image\n",
    "import matplotlib.pyplot as plt"
   ]
  },
  {
   "cell_type": "code",
   "execution_count": null,
   "metadata": {
    "colab": {
     "base_uri": "https://localhost:8080/"
    },
    "id": "cV-jg3WNPEFn",
    "outputId": "3a972785-1e7f-48a7-e750-c7d68b02bea5"
   },
   "outputs": [],
   "source": [
    "!wget http://images.cocodataset.org/zips/train2017.zip -O coco_train2017.zip\n",
    "!wget http://images.cocodataset.org/zips/val2017.zip -O coco_val2017.zip\n",
    "!wget http://images.cocodataset.org/annotations/annotations_trainval2017.zip -O coco_ann2017.zip"
   ]
  },
  {
   "cell_type": "code",
   "execution_count": null,
   "metadata": {
    "id": "CNi9BYBLDtiy"
   },
   "outputs": [],
   "source": [
    "# Visualise the raw data\n",
    "from zipfile import ZipFile, BadZipFile\n",
    "def extract_zip_file(extract_path):\n",
    "    try:\n",
    "        with ZipFile(extract_path+\".zip\") as zfile:\n",
    "            zfile.extractall(\".\")\n",
    "        # remove zipfile\n",
    "        zfileTOremove=f\"{extract_path}\"+\".zip\"\n",
    "        if os.path.isfile(zfileTOremove):\n",
    "            os.remove(zfileTOremove)\n",
    "        else:\n",
    "            print(\"Error: %s file not found\" % zfileTOremove)    \n",
    "    except BadZipFile as e:\n",
    "        print(\"Error:\", e)\n",
    "\n",
    "extract_train_path = \"./coco_train2017\"\n",
    "extract_val_path = \"./coco_val2017\"\n",
    "extract_ann_path=\"./coco_ann2017\"\n",
    "extract_zip_file(extract_train_path)\n",
    "extract_zip_file(extract_val_path)\n",
    "extract_zip_file(extract_ann_path)"
   ]
  },
  {
   "cell_type": "code",
   "execution_count": null,
   "metadata": {
    "id": "7sLNSJA4F3la"
   },
   "outputs": [],
   "source": [
    "!mkdir data\n",
    "!cd data && git clone https://github.com/cocodataset/cocoapi\n",
    "!cd data/cocoapi/PythonAPI && make"
   ]
  },
  {
   "cell_type": "code",
   "execution_count": null,
   "metadata": {
    "id": "MJz-4NBTGEMk",
    "colab": {
     "base_uri": "https://localhost:8080/"
    },
    "outputId": "a3a38f1f-a4a8-40c6-b4cf-5431ed1aac67"
   },
   "outputs": [],
   "source": [
    "import os\n",
    "import skimage.io as io\n",
    "import numpy as np\n",
    "import tensorflow as tf\n",
    "print('TensorFlow version:', tf.__version__)"
   ]
  },
  {
   "cell_type": "code",
   "execution_count": null,
   "metadata": {
    "id": "oIyDhrHPGJ8d"
   },
   "outputs": [],
   "source": [
    "import matplotlib.pyplot as plt\n",
    "import random\n",
    "!pip install livelossplot --quiet\n",
    "from livelossplot.tf_keras import PlotLossesCallback"
   ]
  },
  {
   "cell_type": "code",
   "execution_count": null,
   "metadata": {
    "id": "3_vFDf7UGMsA"
   },
   "outputs": [],
   "source": [
    "COCO_ROOT = '/content'\n",
    "COCO_API_ROOT = './data/'\n",
    "import sys\n",
    "sys.path.insert(0, os.path.join(COCO_API_ROOT, 'cocoapi/PythonAPI'))\n",
    "from pycocotools.coco import COCO"
   ]
  },
  {
   "cell_type": "code",
   "execution_count": null,
   "metadata": {
    "id": "5Xsc0__8HadN"
   },
   "outputs": [],
   "source": [
    "class Dataset():\n",
    "\n",
    "    def crop_images(self, img, inp_size, random_crop=False):\n",
    "        shape = tf.shape(img)\n",
    "        pad = (\n",
    "            [0, tf.maximum(inp_size - shape[0], 0)],\n",
    "            [0, tf.maximum(inp_size - shape[1], 0)],\n",
    "            [0, 0],\n",
    "        )\n",
    "        img = tf.pad(img, pad)\n",
    "\n",
    "        if random_crop:\n",
    "            img = tf.image.random_crop(img, (inp_size, inp_size, shape[2]))\n",
    "        else:\n",
    "            shape = tf.shape(img)\n",
    "            ho = (shape[0] - inp_size) // 2\n",
    "            wo = (shape[1] - inp_size) // 2\n",
    "            img = img[ho:ho+inp_size, wo:wo+inp_size, :]\n",
    "\n",
    "        return img\n",
    "\n",
    "    def train_dataset(self, batch_size, epochs, inp_size):\n",
    "\n",
    "        def item_to_images(item):\n",
    "            img_combined = tf.py_function(self.read_images, [item], tf.uint8)\n",
    "            img_combined = self.crop_images(img_combined, inp_size, True)\n",
    "\n",
    "            img = tf.cast(img_combined[...,:3], tf.float32) / np.float32(255.)\n",
    "            mask_class = tf.cast(img_combined[...,3:4], tf.float32)\n",
    "            return img, mask_class\n",
    "\n",
    "        dataset = tf.data.Dataset.from_tensor_slices(self.img_list)\n",
    "        dataset = dataset.shuffle(buffer_size=len(self.img_list))\n",
    "        dataset = dataset.map(item_to_images)\n",
    "        dataset = dataset.repeat(epochs)\n",
    "        dataset = dataset.batch(batch_size, drop_remainder=True)\n",
    "\n",
    "        return dataset\n",
    "\n",
    "    def val_dataset(self, batch_size, inp_size):\n",
    "\n",
    "        def item_to_images(item):\n",
    "            img_combined = tf.py_function(self.read_images, [item], tf.uint8)\n",
    "            img_combined = self.crop_images(img_combined, inp_size, False)\n",
    "\n",
    "            img = tf.cast(img_combined[...,:3], tf.float32) / np.float32(255.)\n",
    "            mask_class = tf.cast(img_combined[...,3:4], tf.float32)\n",
    "            return img, mask_class\n",
    "\n",
    "        dataset = tf.data.Dataset.from_tensor_slices(self.img_list)\n",
    "        dataset = dataset.map(item_to_images)\n",
    "        dataset = dataset.batch(batch_size, drop_remainder=True)\n",
    "\n",
    "        return dataset"
   ]
  },
  {
   "cell_type": "code",
   "execution_count": null,
   "metadata": {
    "id": "vOgqUPw2HcFY"
   },
   "outputs": [],
   "source": [
    "class COCO_Dataset(Dataset):\n",
    "\n",
    "    def __init__(self, sublist, percent=1):\n",
    "        ann_file_fpath = os.path.join(COCO_ROOT, 'annotations', 'instances_'+sublist+'2017.json')\n",
    "        self.coco = COCO(ann_file_fpath)\n",
    "        self.cat_ids = self.coco.getCatIds(catNms=['person'])\n",
    "        self.img_list = self.coco.getImgIds(catIds=self.cat_ids)\n",
    "        self.img_list = random.sample(self.img_list, int(len(self.img_list) * percent))\n",
    "\n",
    "    def read_images(self, img_id):\n",
    "        img_id = int(img_id.numpy())\n",
    "        img_data = self.coco.loadImgs(img_id)[0]\n",
    "        img_fname = '/'.join(img_data['coco_url'].split('/')[-2:])\n",
    "\n",
    "        img = io.imread(os.path.join(COCO_ROOT, img_fname))\n",
    "        if len(img.shape) == 2:\n",
    "            img = np.tile(img[..., None], (1, 1, 3))\n",
    "\n",
    "        ann_ids = self.coco.getAnnIds(imgIds=img_data['id'], catIds=self.cat_ids, iscrowd=None)\n",
    "        anns = self.coco.loadAnns(ann_ids)\n",
    "        mask_class = np.zeros((img.shape[0], img.shape[1]), dtype=np.uint8)\n",
    "        for i in range(len(anns)):\n",
    "            mask_class += self.coco.annToMask(anns[i])\n",
    "        mask_class = (mask_class > 0).astype(np.uint8)\n",
    "\n",
    "        img_combined = np.concatenate([img, mask_class[..., None]], axis=2)\n",
    "\n",
    "        return img_combined"
   ]
  },
  {
   "cell_type": "markdown",
   "source": [
    "# ConvEncoder and ConvDecoder Blocks"
   ],
   "metadata": {
    "id": "v97wkVQbfE26"
   }
  },
  {
   "cell_type": "code",
   "execution_count": null,
   "metadata": {
    "id": "T7ihDn-GzYok"
   },
   "outputs": [],
   "source": [
    "def ConvEncoder(inputs, n_filters=32, dropout_prob=0.0, \n",
    "            weight_initializer='HeNormal', max_pooling=True):\n",
    "    c1 = tf.keras.layers.Conv2D(n_filters, 3, \n",
    "                  activation='relu',\n",
    "                  padding='same',\n",
    "                  kernel_initializer=weight_initializer)(inputs)\n",
    "\n",
    "    c2 = tf.keras.layers.Conv2D(n_filters, 3,\n",
    "                  activation='relu',\n",
    "                  padding='same',\n",
    "                  kernel_initializer=weight_initializer)(c1)\n",
    "    \n",
    "    conv = tf.keras.layers.BatchNormalization()(c2, training=False)\n",
    "\n",
    "    if dropout_prob > 0.0:     \n",
    "        conv = tf.keras.layers.Dropout(dropout_prob)(conv)\n",
    "\n",
    "    if max_pooling:\n",
    "        next_layer = tf.keras.layers.MaxPooling2D(pool_size = (2,2))(conv)    \n",
    "    else:\n",
    "        next_layer = conv\n",
    "\n",
    "    skip_connection = conv\n",
    "    \n",
    "    return next_layer, skip_connection\n",
    "\n",
    "\n",
    "def ConvDecoder(prev_layer_input, skip_layer_input, n_filters=32, \n",
    "            weight_initializer='HeNormal'):\n",
    "    c1 = tf.keras.layers.Conv2DTranspose(n_filters, (3,3),\n",
    "                 strides=(2,2),\n",
    "                 padding='same')(prev_layer_input)\n",
    "\n",
    "    c2 = tf.keras.layers.Conv2D(n_filters, 3,\n",
    "                 activation='relu',\n",
    "                 padding='same',\n",
    "                 kernel_initializer=weight_initializer)(tf.keras.layers.concatenate([c1, \n",
    "                                                            skip_layer_input], \n",
    "                                                            axis=3))\n",
    "\n",
    "    return tf.keras.layers.Conv2D(n_filters, 3,\n",
    "                 activation='relu',\n",
    "                 padding='same',\n",
    "                 kernel_initializer=weight_initializer)(c2)"
   ]
  },
  {
   "cell_type": "markdown",
   "source": [
    "# UNetSimple Architecture"
   ],
   "metadata": {
    "id": "Av3pZQfpfgWv"
   }
  },
  {
   "cell_type": "code",
   "source": [
    "def UNetSimple(image_size=224, n_filters=32, weights='HeNormal', \n",
    "               dropout_prob=0.2):\n",
    "    inputs = tf.keras.layers.Input((image_size, image_size, 3))\n",
    "    e1 = ConvEncoder(inputs, n_filters, weight_initializer=weights)\n",
    "    e2 = ConvEncoder(e1[0], n_filters * 2, weight_initializer=weights)\n",
    "    e3 = ConvEncoder(e2[0], n_filters*4, dropout_prob=dropout_prob, \n",
    "                 weight_initializer=weights, max_pooling=False)\n",
    "    \n",
    "    d4 = ConvDecoder(e3[0], e2[1],  n_filters * 2, weight_initializer=weights)\n",
    "    d5 = ConvDecoder(d4, e1[1],  n_filters * 1, weight_initializer=weights)\n",
    "\n",
    "    conv1 = tf.keras.layers.Conv2D(n_filters,\n",
    "                 3,\n",
    "                 activation='relu',\n",
    "                 padding='same',\n",
    "                 kernel_initializer=weights)(d5)\n",
    "\n",
    "    conv2 = tf.keras.layers.Conv2D(1, (3, 3), padding='same', \n",
    "                                   activation='sigmoid')(conv1)\n",
    "\n",
    "    return tf.keras.Model(inputs=inputs, outputs=conv2)\n",
    "\n",
    "UNetSimple().summary()"
   ],
   "metadata": {
    "id": "E_MWxxp5lREl"
   },
   "execution_count": null,
   "outputs": []
  },
  {
   "cell_type": "markdown",
   "source": [
    "# UNetDense Architecture"
   ],
   "metadata": {
    "id": "BUHgRiMbfkQ-"
   }
  },
  {
   "cell_type": "code",
   "source": [
    "def UNetDense(image_size=224, n_filters=32, weights='HeNormal', \n",
    "               dropout_prob=0.3):\n",
    "    inputs = tf.keras.layers.Input((image_size, image_size, 3))\n",
    "    e1 = ConvEncoder(inputs, n_filters, weight_initializer=weights)\n",
    "    e2 = ConvEncoder(e1[0], n_filters * 2, weight_initializer=weights)\n",
    "    e3 = ConvEncoder(e2[0], n_filters * 4, weight_initializer=weights)\n",
    "    e4 = ConvEncoder(e3[0], n_filters * 8, dropout_prob=dropout_prob, weight_initializer=weights)\n",
    "    e5 = ConvEncoder(e4[0], n_filters*16, dropout_prob=dropout_prob, \n",
    "                 weight_initializer=weights, max_pooling=False)\n",
    "    \n",
    "    d6 = ConvDecoder(e5[0], e4[1],  n_filters * 8, weight_initializer=weights)\n",
    "    d7 = ConvDecoder(d6, e3[1],  n_filters * 2, weight_initializer=weights)\n",
    "    d8 = ConvDecoder(d7, e2[1],  n_filters * 2, weight_initializer=weights)\n",
    "    d9 = ConvDecoder(d8, e1[1],  n_filters, weight_initializer=weights)\n",
    "\n",
    "    conv1 = tf.keras.layers.Conv2D(n_filters,\n",
    "                 3,\n",
    "                 activation='relu',\n",
    "                 padding='same',\n",
    "                 kernel_initializer=weights)(d9)\n",
    "\n",
    "    conv2 = tf.keras.layers.Conv2D(1, (3, 3), padding='same',\n",
    "                                   activation='sigmoid')(conv1)\n",
    "\n",
    "    return tf.keras.Model(inputs=inputs, outputs=conv2)\n",
    "UNetDense().summary()"
   ],
   "metadata": {
    "id": "KGmBhmEhg3uQ"
   },
   "execution_count": null,
   "outputs": []
  },
  {
   "cell_type": "markdown",
   "source": [
    "# UNetSuperDense Architecture"
   ],
   "metadata": {
    "collapsed": false
   }
  },
  {
   "cell_type": "code",
   "source": [
    "def UNetSuperDense(image_size=256, n_filters=32, weights='HeNormal', \n",
    "               dropout_prob=0.3):\n",
    "    inputs = tf.keras.layers.Input((image_size, image_size, 3))\n",
    "    e1 = ConvEncoder(inputs, n_filters, weight_initializer=weights)\n",
    "    e2 = ConvEncoder(e1[0], n_filters * 2, weight_initializer=weights)\n",
    "    e3 = ConvEncoder(e2[0], n_filters * 4, weight_initializer=weights)\n",
    "    e4 = ConvEncoder(e3[0], n_filters * 8, dropout_prob=dropout_prob, weight_initializer=weights)\n",
    "    e5 = ConvEncoder(e4[0], n_filters * 16, dropout_prob=dropout_prob, weight_initializer=weights)\n",
    "    e6 = ConvEncoder(e5[0], n_filters * 32, dropout_prob=dropout_prob, weight_initializer=weights)\n",
    "    e7 = ConvEncoder(e6[0], n_filters * 64, dropout_prob=dropout_prob, weight_initializer=weights)\n",
    "    e8 = ConvEncoder(e7[0], n_filters*128, dropout_prob=dropout_prob, \n",
    "                 weight_initializer=weights, max_pooling=False)\n",
    "    \n",
    "    d9 = ConvDecoder(e8[0], e7[1],  n_filters * 64, weight_initializer=weights)\n",
    "    d10 = ConvDecoder(d9, e6[1],  n_filters * 32, weight_initializer=weights)\n",
    "    d11 = ConvDecoder(d10, e5[1],  n_filters * 16, weight_initializer=weights)\n",
    "    d12 = ConvDecoder(d11, e4[1],  n_filters * 8, weight_initializer=weights)\n",
    "    d13 = ConvDecoder(d12, e3[1],  n_filters * 4, weight_initializer=weights)\n",
    "    d14 = ConvDecoder(d13, e2[1],  n_filters * 2, weight_initializer=weights)\n",
    "    d15 = ConvDecoder(d14, e1[1],  n_filters, weight_initializer=weights)\n",
    "\n",
    "    conv1 = tf.keras.layers.Conv2D(n_filters,\n",
    "                 3,\n",
    "                 activation='relu',\n",
    "                 padding='same',\n",
    "                 kernel_initializer=weights)(d15)\n",
    "\n",
    "    conv2 = tf.keras.layers.Conv2D(1, (3, 3), padding='same', \n",
    "                                   activation='sigmoid')(conv1)\n",
    "\n",
    "    return tf.keras.Model(inputs=inputs, outputs=conv2)\n",
    "\n",
    "\n",
    "UNetSuperDense().summary()"
   ],
   "metadata": {
    "id": "BltTotEy1HsK",
    "colab": {
     "base_uri": "https://localhost:8080/"
    },
    "outputId": "aaae2cb9-ed10-42a3-d0cf-d21339143eef"
   },
   "execution_count": null,
   "outputs": []
  },
  {
   "cell_type": "markdown",
   "source": [
    "# CNN-Dense Architecture"
   ],
   "metadata": {
    "id": "fD0iVPqngYiT"
   }
  },
  {
   "cell_type": "code",
   "source": [
    "def CNNencoder(inputs, n_filters=32, dropout_prob=0.0, \n",
    "            weight_initializer='HeNormal', max_pooling=True):\n",
    "    c1 = tf.keras.layers.Conv2D(n_filters, 3, \n",
    "                  activation='relu',\n",
    "                  padding='same',\n",
    "                  kernel_initializer=weight_initializer)(inputs)\n",
    "\n",
    "    c2 = tf.keras.layers.Conv2D(n_filters, 3,\n",
    "                  activation='relu',\n",
    "                  padding='same',\n",
    "                  kernel_initializer=weight_initializer)(c1)\n",
    "    \n",
    "    conv = tf.keras.layers.BatchNormalization()(c2, training=False)\n",
    "\n",
    "    if dropout_prob > 0.0:     \n",
    "        conv = tf.keras.layers.Dropout(dropout_prob)(conv)\n",
    "\n",
    "    if max_pooling:\n",
    "        next_layer = tf.keras.layers.MaxPooling2D(pool_size = (2,2))(conv)    \n",
    "    else:\n",
    "        next_layer = conv\n",
    "    \n",
    "    return next_layer\n",
    "\n",
    "\n",
    "def CNNdecoder(prev_layer_input, n_filters=32, \n",
    "            weight_initializer='HeNormal'):\n",
    "    c1 = tf.keras.layers.Conv2DTranspose(n_filters, (3,3),\n",
    "                 strides=(2,2),\n",
    "                 padding='same')(prev_layer_input)\n",
    "\n",
    "    c2 = tf.keras.layers.Conv2D(n_filters, 3,\n",
    "                 activation='relu',\n",
    "                 padding='same',\n",
    "                 kernel_initializer=weight_initializer)(c1)\n",
    "\n",
    "    return tf.keras.layers.Conv2D(n_filters, 3,\n",
    "                 activation='relu',\n",
    "                 padding='same',\n",
    "                 kernel_initializer=weight_initializer)(c2)\n",
    "\n",
    "def CNNSuperDense(image_size=256, n_filters=32, weights='HeNormal', \n",
    "               dropout_prob=0.3):\n",
    "    inputs = tf.keras.layers.Input((image_size, image_size, 3))\n",
    "    e1 = CNNencoder(inputs, n_filters, weight_initializer=weights)\n",
    "    e2 = CNNencoder(e1, n_filters * 2, weight_initializer=weights)\n",
    "    e3 = CNNencoder(e2, n_filters * 4, weight_initializer=weights)\n",
    "    e4 = CNNencoder(e3, n_filters * 8, dropout_prob=dropout_prob, weight_initializer=weights)\n",
    "    e5 = CNNencoder(e4, n_filters * 16, dropout_prob=dropout_prob, weight_initializer=weights)\n",
    "    e6 = CNNencoder(e5, n_filters * 32, dropout_prob=dropout_prob, weight_initializer=weights)\n",
    "    e7 = CNNencoder(e6, n_filters*64, dropout_prob=dropout_prob, \n",
    "                 weight_initializer=weights, max_pooling=False)\n",
    "    \n",
    "    d8 = CNNdecoder(e7,  n_filters * 32, weight_initializer=weights)\n",
    "    d9 = CNNdecoder(d8,  n_filters * 16, weight_initializer=weights)\n",
    "    d10 = CNNdecoder(d9,  n_filters * 8, weight_initializer=weights)\n",
    "    d11 = CNNdecoder(d10,  n_filters * 4, weight_initializer=weights)\n",
    "    d12 = CNNdecoder(d11,  n_filters * 2, weight_initializer=weights)\n",
    "    d13 = CNNdecoder(d12,  n_filters, weight_initializer=weights)\n",
    "\n",
    "    conv1 = tf.keras.layers.Conv2D(n_filters,\n",
    "                 3,\n",
    "                 activation='relu',\n",
    "                 padding='same',\n",
    "                 kernel_initializer=weights)(d13)\n",
    "\n",
    "    conv2 = tf.keras.layers.Conv2D(1, (3, 3), padding='same', \n",
    "                                   activation='sigmoid')(conv1)\n",
    "    return tf.keras.Model(inputs=inputs, outputs=conv2)\n",
    "\n",
    "CNNSuperDense().summary()"
   ],
   "metadata": {
    "colab": {
     "base_uri": "https://localhost:8080/"
    },
    "id": "kXwtDt6Sev7b",
    "outputId": "7ba18090-e8c3-4cb9-bb70-342d5b40cb2c"
   },
   "execution_count": null,
   "outputs": []
  },
  {
   "cell_type": "code",
   "source": [
    "# Define Dataset\n",
    "COCO_dataset_train = COCO_Dataset('train', 1.0)\n",
    "COCO_dataset_val = COCO_Dataset('val', 1.0)"
   ],
   "metadata": {
    "id": "eKyfnE5r7vWe",
    "colab": {
     "base_uri": "https://localhost:8080/"
    },
    "outputId": "beaa1c11-4fe0-45db-d543-ee8e8b77d0aa"
   },
   "execution_count": null,
   "outputs": []
  },
  {
   "cell_type": "code",
   "execution_count": null,
   "metadata": {
    "id": "S3xNMtYWIvyD"
   },
   "outputs": [],
   "source": [
    "BATCH_SIZE = 40\n",
    "IMAGE_SIZE = 256\n",
    "EPOCHS = 40\n",
    "\n",
    "train_ds = COCO_dataset_train.train_dataset(batch_size=BATCH_SIZE, epochs=EPOCHS, inp_size=IMAGE_SIZE)\n",
    "val_ds = COCO_dataset_val.val_dataset(batch_size=BATCH_SIZE, inp_size=IMAGE_SIZE)"
   ]
  },
  {
   "cell_type": "code",
   "execution_count": null,
   "metadata": {
    "id": "OXQX3cyRI-hz"
   },
   "outputs": [],
   "source": [
    "from pathlib import Path"
   ]
  },
  {
   "cell_type": "code",
   "execution_count": null,
   "metadata": {
    "id": "WEQDtyUZVEXM"
   },
   "outputs": [],
   "source": [
    "path = Path(\"model_1\")\n",
    "path.mkdir(exist_ok=True, parents=True) # folder created in google drive\n",
    "assert path.exists()\n",
    "cpt_filename = \"best1.hdf5\"\n",
    "cpt_path =str(path / cpt_filename)\n",
    "\n",
    "# UNetSimple Model Training\n",
    "model = UNetSimple(image_size=IMAGE_SIZE)\n",
    "checkpoint = tf.keras.callbacks.ModelCheckpoint(cpt_path, monitor='val_accuracy', verbose=1, save_best_only=True, mode='max')\n",
    "optimizer = tf.keras.optimizers.Adam(0.0001)\n",
    "\n",
    "model.compile(loss='binary_crossentropy', metrics=['accuracy'], optimizer=optimizer)\n",
    "\n",
    "hist = model.fit(\n",
    "    train_ds, \n",
    "    epochs=EPOCHS,\n",
    "    steps_per_epoch=50,\n",
    "    validation_data=val_ds,\n",
    "    callbacks=[PlotLossesCallback(), checkpoint])"
   ]
  },
  {
   "cell_type": "code",
   "source": [
    "path = Path(\"model_2\")\n",
    "path.mkdir(exist_ok=True, parents=True) # folder created in google drive\n",
    "assert path.exists()\n",
    "cpt_filename = \"best2.hdf5\"\n",
    "cpt_path =str(path / cpt_filename)\n",
    "\n",
    "# UNetDense Model Training\n",
    "model = UNetDense(image_size=IMAGE_SIZE)\n",
    "checkpoint = tf.keras.callbacks.ModelCheckpoint(cpt_path, monitor='val_accuracy', verbose=1, save_best_only=True, mode='max')\n",
    "optimizer = tf.keras.optimizers.Adam(0.0002)\n",
    "\n",
    "model.compile(loss='binary_crossentropy', metrics=['accuracy'], optimizer=optimizer)\n",
    "\n",
    "hist = model.fit(\n",
    "    train_ds, \n",
    "    epochs=EPOCHS,\n",
    "    steps_per_epoch=50,\n",
    "    validation_data=val_ds,\n",
    "    callbacks=[PlotLossesCallback(), checkpoint])"
   ],
   "metadata": {
    "id": "Y37pGTRrl1Du"
   },
   "execution_count": null,
   "outputs": []
  },
  {
   "cell_type": "code",
   "source": [
    "path = Path(\"model_3\")\n",
    "path.mkdir(exist_ok=True, parents=True) # folder created in google drive\n",
    "assert path.exists()\n",
    "cpt_filename = \"best3.hdf5\"\n",
    "cpt_path =str(path / cpt_filename)\n",
    "\n",
    "# UNetSuperDense Model Training\n",
    "model = UNetSuperDense(image_size=IMAGE_SIZE)\n",
    "checkpoint = tf.keras.callbacks.ModelCheckpoint(cpt_path, monitor='val_accuracy', verbose=1, save_best_only=True, mode='max')\n",
    "optimizer = tf.keras.optimizers.Adam(0.00005)\n",
    "\n",
    "model.compile(loss='binary_crossentropy', metrics=['accuracy'], optimizer=optimizer)\n",
    "\n",
    "hist = model.fit(\n",
    "    train_ds, \n",
    "    epochs=EPOCHS,\n",
    "    steps_per_epoch=50,\n",
    "    validation_data=val_ds,\n",
    "    callbacks=[PlotLossesCallback(), checkpoint]\n",
    "    )"
   ],
   "metadata": {
    "id": "ToMf80071sL2"
   },
   "execution_count": null,
   "outputs": []
  },
  {
   "cell_type": "code",
   "source": [
    "path = Path(\"model_4\")\n",
    "path.mkdir(exist_ok=True, parents=True) # folder created in google drive\n",
    "assert path.exists()\n",
    "cpt_filename = \"best4.hdf5\"\n",
    "cpt_path =str(path / cpt_filename)\n",
    "\n",
    "# CNNSuperDense Model Training\n",
    "model = CNNSuperDense(image_size=IMAGE_SIZE)\n",
    "checkpoint = tf.keras.callbacks.ModelCheckpoint(cpt_path, monitor='val_accuracy', verbose=1, save_best_only=True, mode='max')\n",
    "optimizer = tf.keras.optimizers.Adam(0.0001)\n",
    "\n",
    "model.compile(loss='binary_crossentropy', metrics=['accuracy'], optimizer=optimizer)\n",
    "\n",
    "hist = model.fit(\n",
    "    train_ds, \n",
    "    epochs=EPOCHS,\n",
    "    steps_per_epoch=50,\n",
    "    validation_data=val_ds,\n",
    "    callbacks=[PlotLossesCallback(), checkpoint]\n",
    "    )"
   ],
   "metadata": {
    "id": "II8bxU7xiaJY"
   },
   "execution_count": null,
   "outputs": []
  },
  {
   "cell_type": "code",
   "execution_count": null,
   "metadata": {
    "id": "Vy8Jn50_KZ07"
   },
   "outputs": [],
   "source": [
    "import matplotlib.pyplot as plt\n",
    "import random\n",
    "########## Model Results ##########\n",
    "\n",
    "def draw_sub_image(i, sample, mask):\n",
    "    plt.subplot(4,4, i + 1)\n",
    "    plt.xticks([])\n",
    "    plt.yticks([])\n",
    "    plt.grid(False)\n",
    "    # print(sample.shape, mask.shape)\n",
    "    mask = (mask[..., 0] > 0.2).astype(np.float32)\n",
    "    mask_clr = plt.get_cmap('viridis')(mask)[..., :3]\n",
    "    plt.imshow(sample*0.5 + mask_clr*0.5)\n",
    "    title_object = plt.title(\"Predicted\" if i % 2 else \"Real\")\n",
    "    _ = plt.setp(title_object, color=\"b\")\n",
    "\n",
    "plt.figure(figsize=(10,10))\n",
    "\n",
    "imgs, masks = next(train_ds.as_numpy_iterator())\n",
    "\n",
    "for i, sample, mask in zip(range(imgs.shape[0]), imgs, masks):\n",
    "    pred_mask = model.predict(sample[None, ...])\n",
    "    if i > 7:\n",
    "        break\n",
    "    draw_sub_image(2*i, sample, mask)\n",
    "    draw_sub_image(2*i + 1, sample, pred_mask[0, ...])"
   ]
  }
 ],
 "metadata": {
  "accelerator": "GPU",
  "colab": {
   "provenance": []
  },
  "gpuClass": "standard",
  "kernelspec": {
   "display_name": "Python 3",
   "name": "python3"
  },
  "language_info": {
   "name": "python"
  }
 },
 "nbformat": 4,
 "nbformat_minor": 0
}
